{
  "nbformat": 4,
  "nbformat_minor": 0,
  "metadata": {
    "colab": {
      "name": "colaboratory_introduction_korean.ipynb",
      "version": "0.3.2",
      "provenance": [],
      "collapsed_sections": [],
      "include_colab_link": true
    },
    "kernelspec": {
      "display_name": "Python 3",
      "name": "python3"
    }
  },
  "cells": [
    {
      "cell_type": "markdown",
      "metadata": {
        "id": "view-in-github",
        "colab_type": "text"
      },
      "source": [
        "<a href=\"https://colab.research.google.com/github/rky0930/style_transfer_ai4teen/blob/master/colaboratory_introduction_korean.ipynb\" target=\"_parent\"><img src=\"https://colab.research.google.com/assets/colab-badge.svg\" alt=\"Open In Colab\"/></a>"
      ]
    },
    {
      "cell_type": "markdown",
      "metadata": {
        "colab_type": "text",
        "id": "9J7p406abzgl"
      },
      "source": [
        "<p><img height=\"45px\" src=\"https://colab.research.google.com/img/colab_favicon.ico\" align=\"left\" hspace=\"10px\" vspace=\"0px\"></p>\n",
        "\n",
        "<h1>Colaboratory가 무엇일까요?</h1>\n",
        "\n",
        "Colaboratory는 따로 설치가 필요 없고 완전히 클라우드에서 실행되는 머신러닝 교육과 연구를 위한 연구 도구입니다.\n",
        "\n",
        "Colaboratory를 사용하면 브라우저를 통해 코드를 작성 및 실행하고, 분석을 저장 및 공유하며, 강력한 컴퓨팅 리소스를 이용할 수 있습니다. \n",
        "\n",
        "물론 이 모든 것을 무료로 할 수 있습니다.\n",
        "\n",
        "Colaboratory는 Jupyter 노트 환경으로, 모든 Colaboratory 노트는 구글 드라이브에 저장됩니다. \n",
        "\n",
        "또한 다른 구글의 문서들처럼 공유할 수 있습니다.\n",
        "\n",
        "*   Colaboratory 소개 영상 : https://youtu.be/inN8seMm7UI\n",
        "*   Colaboratory FAQ :  https://research.google.com/colaboratory/faq.html  \n",
        "\n",
        "\n",
        "본 문서는 다음의 구글 Colaboratory 문서들을 재구성 하였습니다. \n",
        "* https://colab.research.google.com/notebooks/welcome.ipynb\n",
        "* https://colab.research.google.com/notebooks/basic_features_overview.ipynb\n",
        "\n"
      ]
    },
    {
      "cell_type": "markdown",
      "metadata": {
        "colab_type": "text",
        "id": "GJBs_flRovLc"
      },
      "source": [
        "## 시작하기\n",
        "\n",
        "지금 보고 계신 문서는 Colaboratory에 호스팅된 [Jupyter 노트북](https://jupyter.org)입니다. \n",
        "\n",
        "정적인 문서가 아닌, Python 등의 언어로 코드를 작성하고 여기에서 직접 실행해볼 수 있는 대화형 문서입니다.\n",
        "\n",
        "예를 들어 다음은 값을 계산하여 변수로 저장하고 결과를 출력하는 간단한 Python 스크립트를 포함한 **코드 셀**입니다."
      ]
    },
    {
      "cell_type": "code",
      "metadata": {
        "colab_type": "code",
        "id": "gJr_9dXGpJ05",
        "colab": {}
      },
      "source": [
        "seconds_in_a_day = 24 * 60 * 60\n",
        "seconds_in_a_day"
      ],
      "execution_count": 0,
      "outputs": []
    },
    {
      "cell_type": "markdown",
      "metadata": {
        "colab_type": "text",
        "id": "2fhs6GZ4qFMx"
      },
      "source": [
        "위 셀의 코드를 실행하려면 셀을 클릭하여 선택한 후, 코드 왼쪽의 ▷ 버튼을 누르거나 단축키 '⌘/Ctrl+Enter'를 사용합니다.\n",
        "\n",
        "모든 셀은 동일한 전역 상태를 수정하므로 셀을 실행하여 정의되는 변수는 다른 셀에서도 사용할 수 있습니다."
      ]
    },
    {
      "cell_type": "code",
      "metadata": {
        "colab_type": "code",
        "id": "-gE-Ez1qtyIA",
        "colab": {}
      },
      "source": [
        "seconds_in_a_week = 7 * seconds_in_a_day\n",
        "seconds_in_a_week"
      ],
      "execution_count": 0,
      "outputs": []
    },
    {
      "cell_type": "markdown",
      "metadata": {
        "id": "wfHTADR6BL0o",
        "colab_type": "text"
      },
      "source": [
        "#셀\n",
        "노트북은 셀로 구성되어 있습니다. 셀은 텍스트 또는 실행가능한 코드 그리고 코드의 실행 결과를 포함합니다."
      ]
    },
    {
      "cell_type": "markdown",
      "metadata": {
        "id": "Wul3tpKZBHgx",
        "colab_type": "text"
      },
      "source": [
        "## 코드 셀\n",
        "아래에 **code cell**이 있습니다. 툴바에 연결이라고 나오면 셀을 클릭하여 선택한 후에 다음과 같은 방법으로 실행합니다.\n",
        "\n",
        "* 셀 왼쪽 상단의 **재생 아이콘** 을 클릭합니다.\n",
        "* 명령어 **Ctrl+Enter** 를 입력하면 코드 셀이 실행됩니다.\n",
        "* 명령어 **Shift+Enter** 를 입력하면 코드 셀을 실행하고 다음 셀로 포커스가 이동됩니다.(다음 코드 셀이 없는 경우 새로 코드 셀을 추가합니다.)\n",
        "* 명령어 **Alt+Enter** 를 입력하면 코드 셀을 실행하고 바로 아래에 새로운 코드 셀을 삽입합니다. \n",
        "\n",
        "런타임 메뉴에 일부 셀을 실행하거나 모든 셀을 실행하는 추가 옵션이 있습니다."
      ]
    },
    {
      "cell_type": "code",
      "metadata": {
        "id": "4_hUhl0oDAEc",
        "colab_type": "code",
        "colab": {}
      },
      "source": [
        "a = 10\n",
        "a"
      ],
      "execution_count": 0,
      "outputs": []
    },
    {
      "cell_type": "code",
      "metadata": {
        "id": "xaIgoK-HELkt",
        "colab_type": "code",
        "colab": {}
      },
      "source": [
        "b = 20\n",
        "b"
      ],
      "execution_count": 0,
      "outputs": []
    },
    {
      "cell_type": "markdown",
      "metadata": {
        "id": "za0VO3PfEtUr",
        "colab_type": "text"
      },
      "source": [
        "##텍스트 셀\n",
        "이것이 텍스트 셀입니다. 지금 보고 계신 이 셀을 더블클릭하면 수정하실 수 있습니다. 텍스트 셀은 마크다운 문법을 사용합니다. 추가로 더 배우고 싶으시면 [markdown\n",
        "guide](/notebooks/markdown_guide.ipynb)를 들어가보세요.\n",
        "그리고 텍스트 셀에서는 [LaTeX](http://www.latex-project.org/)와  [MathJax](https://www.mathjax.org)를 이용해서 수식을 입력할 수 있습니다. 단순히 **\\$** 를 수식의 앞과 뒤에 적어주면 수식이 입력됩니다. 예를 들면 `$\\sqrt{3x-1}+(1+x)^2$` 를 적으면 다음과 같이 수식이 보여집니다.\n",
        "$\\sqrt{3x-1}+(1+x)^2.$"
      ]
    },
    {
      "cell_type": "markdown",
      "metadata": {
        "id": "IhKKxERIGQn7",
        "colab_type": "text"
      },
      "source": [
        "##셀 추가 및 이동하기\n",
        "상단의 +코드, +텍스트 버튼을 누르면 새로운 셀을 추가할 수 있습니다. 이 버튼들을 누르면 현재 선택된 셀 아래에 셀을 생성합니다. 메뉴바의 \"삽입\"메뉴를 통해서도 셀을 추가할 수 있습니다. \n",
        "셀을 이동하기 위해서는 셀을 선택한 후 상단 도구 모음에서 셀 위로 또는 셀 아래로 버튼을 클릭하여 셀을 이동할 수 있습니다. \n",
        "\n",
        "셀 외부에서 여러 셀을 드래그하여 선택할 수 있고 또는 한 셀을 클릭하여 선택한 다음 Ctrl키를 누른 상태에서 다른 셀을 클릭하면 여러 셀을 동시에 선택할 수 있습니다. 동일한 방법으로 Shift 키를 사용하면 중간의 모든 셀들도 선택할 수 있습니다. "
      ]
    },
    {
      "cell_type": "markdown",
      "metadata": {
        "id": "XBDabdqPof-y",
        "colab_type": "text"
      },
      "source": [
        "# 구글 드라이브와 통합\n",
        "\n",
        "Colaboratory는 Google 드라이브와 통합되어 사용할 수 있습니다. 여러 사람과 동일한 문서를 공유, 댓글 남기기, 공동 작업이 가능합니다. \n",
        "\n",
        "*   **공유** 버튼을 사용하면 노트를 공유할 수 있습니다. 고급 설정을 통해 노트의 사용권한을 제어 할 수 있습니다. \n",
        "*   **파일 -> 드라이브에 사본 저장** 을 사용해서 드라이브에 노트북 사본을 만듭니다. \n",
        "*   **파일 -> 저장**을 사용해서 드라이브에 저장합니다. \n",
        "*  **파일 -> 버전 저장 및 고정** 을 사용해서 버전 히스토리에서 삭제되지 않도록 버전을 고정시킬 수 있습니다. \n",
        "*   **파일 -> 업데이트 기록** 을 사용해서 노트북의 개정 기록을 볼 수 있습니다.\n",
        "\n",
        "\n",
        "\n"
      ]
    },
    {
      "cell_type": "markdown",
      "metadata": {
        "id": "HQ_T-3O7q7Hz",
        "colab_type": "text"
      },
      "source": [
        "## 셀에 댓글 남기기\n",
        "Google 문서에서와 같이 Colaboratory 노트에 댓글을 달 수 있습니다. 댓글은 셀에 첨부되는데 참조되는 셀 옆에 표시됩니다. \n",
        "\n",
        "댓글을 적을 수 있는 권한 만있는 경우 셀 위로 마우스를 가져 가면 오른쪽 상단에 댓글 버튼이 표시됩니다 \n",
        "\n",
        "편집 권한 또는 댓글을 적을 수 있는 권한이있는 경우에는 다음의 세 가지 방법 중 하나를 사용하여 셀에 댓글을 달 수 있습니다. \n",
        "\n",
        "*  셀을 선택하고 셀의 오른쪽 상단 모서리 위에있는 툴바에서 **댓글 버튼**을 클릭합니다.\n",
        "*   텍스트 셀에서 마우스 오른쪽 버튼으로 클릭한 후에 메뉴에서 **댓글 추가**를 선택합니다.\n",
        "*  현재 선택된 셀에서 댓글을 추가하기 위해 단축키 **Ctrl + Shift + M**을 사용합니다.\n",
        "\n",
        "댓글에 대해 완료하거나 답장을 할 수 있습니다. 그리고 +[이메일 주소]  (예: +user@domain.com) 형식으로 특정 공동 작업자에게 댓글을 작성할 수 있습니다. 언급된 공동 작업자에게는 이메일이 전송됩니다. \n",
        "\n",
        "페이지의 오른쪽 상단 모서리에있는 댓글 버튼은 노트북에 첨부된 모든 주석을 표시합니다."
      ]
    }
  ]
}